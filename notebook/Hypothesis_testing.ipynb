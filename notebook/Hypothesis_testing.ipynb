{
 "cells": [
  {
   "cell_type": "markdown",
   "metadata": {},
   "source": [
    "# Insurance Data Analysis"
   ]
  },
  {
   "cell_type": "markdown",
   "metadata": {},
   "source": [
    "## Hypothesis Testing"
   ]
  },
  {
   "cell_type": "markdown",
   "metadata": {},
   "source": [
    "### Importing necessary libraries"
   ]
  },
  {
   "cell_type": "code",
   "execution_count": 1,
   "metadata": {},
   "outputs": [],
   "source": [
    "import pandas as pd\n",
    "import numpy as np\n",
    "import matplotlib.pyplot as plt\n",
    "import seaborn as sns\n",
    "\n",
    "import sys\n",
    "import os\n"
   ]
  },
  {
   "cell_type": "code",
   "execution_count": 2,
   "metadata": {},
   "outputs": [],
   "source": [
    "sys.path.append(os.path.abspath('../scripts'))\n",
    "from AB_hypthesis import HypothesisTest "
   ]
  },
  {
   "cell_type": "code",
   "execution_count": 3,
   "metadata": {},
   "outputs": [],
   "source": [
    "data = pd.read_csv('../data/dataset.csv', low_memory=False)"
   ]
  },
  {
   "cell_type": "code",
   "execution_count": 4,
   "metadata": {},
   "outputs": [],
   "source": [
    "hypo_test = HypothesisTest(data)"
   ]
  },
  {
   "cell_type": "markdown",
   "metadata": {},
   "source": [
    "#### Hypothesis 1: There are no risk differences across provinces"
   ]
  },
  {
   "cell_type": "code",
   "execution_count": 5,
   "metadata": {},
   "outputs": [
    {
     "name": "stdout",
     "output_type": "stream",
     "text": [
      "Province T-test: t-stat=2.377009645820486, p-value=0.017453963145741637\n",
      "Reject the null hypothesis: There are no risk differences across provinces.\n"
     ]
    }
   ],
   "source": [
    "hypothesis = 'There are no risk differences across provinces'\n",
    "kpi = 'TotalClaims'\n",
    "\n",
    "# selecting the top two provinces by vlaue count\n",
    "group_A = data[data['Province'] == 'Gauteng'][kpi]\n",
    "group_B = data[data['Province'] == 'Western Cape'][kpi]\n",
    "\n",
    "t_stat, p_value = hypo_test.statistical_test(group_A, group_B)\n",
    "\n",
    "hypo_test.interpret_test(t_stat, p_value, hypothesis)"
   ]
  },
  {
   "cell_type": "markdown",
   "metadata": {},
   "source": [
    "**Observation**\n",
    "- There is a risk differences across provinces."
   ]
  },
  {
   "cell_type": "markdown",
   "metadata": {},
   "source": [
    "#### Hypothesis 2: There are no risk differences between zip codes"
   ]
  },
  {
   "cell_type": "code",
   "execution_count": 11,
   "metadata": {},
   "outputs": [
    {
     "name": "stdout",
     "output_type": "stream",
     "text": [
      "Province T-test: t-stat=0.7494230883409171, p-value=0.45360287778798436\n",
      "Fail to reject the null hypothesis: There are no risk differences between SubCrestaZone.\n"
     ]
    }
   ],
   "source": [
    "# since there are no columns called zip code. SubCrestaZone will be used here.\n",
    "hypothesis = 'There are no risk differences between SubCrestaZone'\n",
    "kpi = 'TotalClaims'\n",
    "\n",
    "# selecting the top two provinces by vlaue count\n",
    "group_A = data[data['SubCrestaZone'] == 'Johannesburg'][kpi]\n",
    "group_B = data[data['SubCrestaZone'] == 'Pretoria'][kpi]\n",
    "\n",
    "t_stat, p_value = hypo_test.statistical_test(group_A, group_B)\n",
    "\n",
    "hypo_test.interpret_test(t_stat, p_value, hypothesis)\n"
   ]
  },
  {
   "cell_type": "markdown",
   "metadata": {},
   "source": [
    "**Observation**\n",
    "- There are no risk differences between SubCrestaZone."
   ]
  },
  {
   "cell_type": "markdown",
   "metadata": {},
   "source": [
    "#### Hypothesis 3: There are no significant margin (profit) difference between zip codes "
   ]
  },
  {
   "cell_type": "code",
   "execution_count": 17,
   "metadata": {},
   "outputs": [
    {
     "name": "stdout",
     "output_type": "stream",
     "text": [
      "Province T-test: t-stat=-0.13973594324242586, p-value=0.8888687283271668\n",
      "Fail to reject the null hypothesis: There are no significant margin (profit) difference between SubCrestaZone.\n"
     ]
    }
   ],
   "source": [
    "hypothesis = 'There are no significant margin (profit) difference between SubCrestaZone'\n",
    "data['Profit_margin'] = data['TotalPremium'] - data['TotalClaims']\n",
    "kpi = 'Profit_margin'\n",
    "\n",
    "# selecting the top two provinces by vlaue count\n",
    "group_A = data[data['SubCrestaZone'] == 'Johannesburg'][kpi]\n",
    "group_B = data[data['SubCrestaZone'] == 'Pretoria'][kpi]\n",
    "\n",
    "t_stat, p_value = hypo_test.statistical_test(group_A, group_B)\n",
    "\n",
    "hypo_test.interpret_test(t_stat, p_value, hypothesis)"
   ]
  },
  {
   "cell_type": "markdown",
   "metadata": {},
   "source": [
    "**Observation**\n",
    "- There are no significant margin (profit) difference between SubCrestaZone."
   ]
  },
  {
   "cell_type": "markdown",
   "metadata": {},
   "source": [
    "#### Hypothsis 4: There are not significant risk difference between Women and Men"
   ]
  },
  {
   "cell_type": "code",
   "execution_count": 18,
   "metadata": {},
   "outputs": [
    {
     "name": "stdout",
     "output_type": "stream",
     "text": [
      "Province T-test: t-stat=2.0977372004986874, p-value=0.03592861720089797\n",
      "Reject the null hypothesis: There are not significant risk difference between Women and Men.\n"
     ]
    }
   ],
   "source": [
    "hypothesis = 'There are not significant risk difference between Women and Men'\n",
    "kpi = 'TotalClaims'\n",
    "\n",
    "# selecting the top two provinces by vlaue count\n",
    "group_A = data[data['Gender'] == 'Male'][kpi]\n",
    "group_B = data[data['Gender'] == 'Female'][kpi]\n",
    "\n",
    "t_stat, p_value = hypo_test.statistical_test(group_A, group_B)\n",
    "\n",
    "hypo_test.interpret_test(t_stat, p_value, hypothesis)"
   ]
  },
  {
   "cell_type": "markdown",
   "metadata": {},
   "source": [
    "**Observation**\n",
    "- There is significant risk difference between Women and Men"
   ]
  }
 ],
 "metadata": {
  "kernelspec": {
   "display_name": ".venv",
   "language": "python",
   "name": "python3"
  },
  "language_info": {
   "codemirror_mode": {
    "name": "ipython",
    "version": 3
   },
   "file_extension": ".py",
   "mimetype": "text/x-python",
   "name": "python",
   "nbconvert_exporter": "python",
   "pygments_lexer": "ipython3",
   "version": "3.12.5"
  }
 },
 "nbformat": 4,
 "nbformat_minor": 2
}
